{
 "cells": [
  {
   "cell_type": "code",
   "execution_count": 1,
   "metadata": {},
   "outputs": [],
   "source": [
    "import pandas as pd\n",
    "import numpy as np\n",
    "from pathlib import Path\n",
    "import math"
   ]
  },
  {
   "cell_type": "code",
   "execution_count": 14,
   "metadata": {},
   "outputs": [],
   "source": [
    "def load_file(path, names):\n",
    "    if not path.is_file():\n",
    "        raise FileNotFoundError(str(path))\n",
    "        \n",
    "    data = pd.read_csv(path, sep=\",\", names=names, header=None)\n",
    "    return data\n",
    "\n",
    "\n",
    "def load_dfs():\n",
    "    cols = [\"PregnanciesNumber\", \"GlucosePlasma\", \"BloodPressureDiastolic\", \"SkinThicknessTriceps\", \n",
    "           \"Insulin2Hour\", \"BMI\", \"DiabetesPedigreeFunction\", \"Age\", \"OutcomeClass\"]\n",
    "    path = Path.cwd() / \"data\"\n",
    "    diabetes_file = path / \"pima-indians-diabetes.data.csv\"\n",
    "    train_file = path / \"train.csv\"\n",
    "    test_file = path / \"test.csv\"\n",
    "\n",
    "    diabetes_data = load_file(diabetes_file, cols)\n",
    "    train_data = load_file(train_file, cols)\n",
    "    test_data = load_file(test_file, cols)\n",
    "    return diabetes_data, train_data, test_data\n",
    "\n",
    "\n",
    "def mean_and_std(data):\n",
    "    return data.mean(), data.std()\n",
    "\n",
    "\n",
    "def norm_dist(data, mean, std):\n",
    "    variance = std**2\n",
    "    denominator = (2 * math.pi* variance)**(.5)\n",
    "    numerator = np.exp(-(data - mean)**2 / (2 * variance))\n",
    "    return numerator / denominator\n",
    "\n",
    "\n",
    "def class_probs(data):\n",
    "    n_false = train_data['OutcomeClass'][train_data['OutcomeClass'] == 0].count()\n",
    "    n_true = train_data['OutcomeClass'][train_data['OutcomeClass'] == 1].count()\n",
    "    n_total = train_data['OutcomeClass'].count()\n",
    "\n",
    "    p_false = n_false / n_total\n",
    "    p_true = n_true / n_total\n",
    "    \n",
    "    return p_false, p_true\n",
    "\n",
    "\n",
    "def mean_std_by_class(data):\n",
    "    data_by_class = data.groupby('OutcomeClass')\n",
    "    mean, std = mean_and_std(data_by_class)\n",
    "    false_mean = mean[std.index == 0.0].values[0]\n",
    "    false_std = std[std.index == 0.0].values[0]\n",
    "    true_mean = mean[std.index == 1.0].values[0]\n",
    "    true_std = std[std.index == 1.0].values[0]\n",
    "    return false_mean, false_std, true_mean, true_std\n",
    "    "
   ]
  },
  {
   "cell_type": "code",
   "execution_count": 15,
   "metadata": {},
   "outputs": [],
   "source": [
    "diabetes_data, train_data, test_data = load_dfs()\n",
    "\n",
    "p_false, p_true = class_probs(train_data)\n",
    "\n",
    "false_mean, false_std, true_mean, true_std = mean_std_by_class(train_data)\n",
    "\n",
    "test_data_no_outcome = test_data.drop('OutcomeClass', axis=1)\n",
    "\n",
    "false_norm = norm_dist(test_data_no_outcome, false_mean, false_std)\n",
    "false_norm = false_norm.prod(axis=1) * p_false\n",
    "\n",
    "true_norm = norm_dist(test_data_no_outcome, true_mean, true_std)\n",
    "true_norm = true_norm.prod(axis=1) * p_true\n",
    "\n",
    "norm = pd.concat([false_norm, true_norm], axis=1)\n",
    "\n",
    "norm['diabetes_predicted'] = np.where(norm[1] > norm[0], 1.0, 0.0)\n",
    "\n",
    "merged = pd.concat([norm['diabetes_predicted'], test_data['OutcomeClass']], axis=1)\n",
    "merged['accurate'] = np.where(merged['diabetes_predicted'] == merged['OutcomeClass'], True, False)\n"
   ]
  },
  {
   "cell_type": "code",
   "execution_count": 16,
   "metadata": {},
   "outputs": [
    {
     "data": {
      "text/plain": [
       "0.7480314960629921"
      ]
     },
     "execution_count": 16,
     "metadata": {},
     "output_type": "execute_result"
    }
   ],
   "source": [
    "accuracy = merged.mean()['accurate']\n",
    "accuracy"
   ]
  }
 ],
 "metadata": {
  "kernelspec": {
   "display_name": "Python 3",
   "language": "python",
   "name": "python3"
  },
  "language_info": {
   "codemirror_mode": {
    "name": "ipython",
    "version": 3
   },
   "file_extension": ".py",
   "mimetype": "text/x-python",
   "name": "python",
   "nbconvert_exporter": "python",
   "pygments_lexer": "ipython3",
   "version": "3.7.4"
  }
 },
 "nbformat": 4,
 "nbformat_minor": 2
}
